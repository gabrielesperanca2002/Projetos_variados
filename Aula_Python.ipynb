{
  "nbformat": 4,
  "nbformat_minor": 0,
  "metadata": {
    "colab": {
      "provenance": [],
      "authorship_tag": "ABX9TyOgnLDnggEeL/XCNWPORJIl",
      "include_colab_link": true
    },
    "kernelspec": {
      "name": "python3",
      "display_name": "Python 3"
    },
    "language_info": {
      "name": "python"
    }
  },
  "cells": [
    {
      "cell_type": "markdown",
      "metadata": {
        "id": "view-in-github",
        "colab_type": "text"
      },
      "source": [
        "<a href=\"https://colab.research.google.com/github/gabrielesperanca2002/javaScript-Aulas/blob/main/Aula_Python.ipynb\" target=\"_parent\"><img src=\"https://colab.research.google.com/assets/colab-badge.svg\" alt=\"Open In Colab\"/></a>"
      ]
    },
    {
      "cell_type": "code",
      "execution_count": null,
      "metadata": {
        "id": "cIZ_zP5H6dJ9"
      },
      "outputs": [],
      "source": []
    },
    {
      "cell_type": "markdown",
      "source": [
        "# Iniciando\n",
        "Vamos Iniciar o código"
      ],
      "metadata": {
        "id": "hp_uChfg85cR"
      }
    },
    {
      "cell_type": "code",
      "source": [
        "print(\"Olá, Mundo!\")"
      ],
      "metadata": {
        "colab": {
          "base_uri": "https://localhost:8080/"
        },
        "id": "xqezVrnF9Ll0",
        "outputId": "f1f0d5db-a02a-4858-d80b-0b2c5cd45601"
      },
      "execution_count": 1,
      "outputs": [
        {
          "output_type": "stream",
          "name": "stdout",
          "text": [
            "Olá, Mundo!\n"
          ]
        }
      ]
    },
    {
      "cell_type": "code",
      "source": [],
      "metadata": {
        "id": "U9qJBJJK9BZJ"
      },
      "execution_count": null,
      "outputs": []
    },
    {
      "cell_type": "code",
      "source": [
        "# Indentação\n",
        "\n",
        "if 5 > 2:\n",
        "  print(\"Cinco é maior que dois.\")"
      ],
      "metadata": {
        "colab": {
          "base_uri": "https://localhost:8080/"
        },
        "id": "B_9b1heR9WkI",
        "outputId": "25fed2dc-28f2-4b97-ee38-64e575cbc0e3"
      },
      "execution_count": 2,
      "outputs": [
        {
          "output_type": "stream",
          "name": "stdout",
          "text": [
            "Cinco é maior que dois.\n"
          ]
        }
      ]
    },
    {
      "cell_type": "code",
      "source": [
        "# Variáveis\n",
        "\n",
        "x = 5\n",
        "\n",
        "y = \"Estou no Curso\"\n",
        "\n",
        "print(x)\n",
        "\n",
        "print(y)\n",
        "\n",
        "\n",
        "# Casting - Declaração de Variáveis\n",
        "\n",
        "a = str(3) # String, Texto -> \"3\"\n",
        "\n",
        "b = int(3) # Integer, número inteiro --> 3\n",
        "\n",
        "c = float(3) # Float, número flutuante, decimal --# 3.0\n",
        "\n",
        "# Exibindo as variáveis\n",
        "\n",
        "print(a)\n",
        "print(b)\n",
        "print(c)"
      ],
      "metadata": {
        "colab": {
          "base_uri": "https://localhost:8080/"
        },
        "id": "jEh_8R1T-Mzl",
        "outputId": "c73c8bc8-a8a2-44e8-a64b-0e552c5cde31"
      },
      "execution_count": 8,
      "outputs": [
        {
          "output_type": "stream",
          "name": "stdout",
          "text": [
            "5\n",
            "Estou no Curso\n",
            "3\n",
            "3\n",
            "3.0\n"
          ]
        }
      ]
    },
    {
      "cell_type": "code",
      "source": [
        "# Muiitos valores para múltiplas variáveis\n",
        "\n",
        "x, y, z = \"Laranja\", \"Banana\", \"Cereja\"\n",
        "\n",
        "print(x)\n",
        "print(y)\n",
        "print(z)\n",
        "\n",
        "#Shift + alt + Seta para baixo - Duplica a linha"
      ],
      "metadata": {
        "colab": {
          "base_uri": "https://localhost:8080/"
        },
        "id": "vBr7jfgeC85Y",
        "outputId": "70911142-8431-4f4e-c728-b3ce1b86aead"
      },
      "execution_count": 10,
      "outputs": [
        {
          "output_type": "stream",
          "name": "stdout",
          "text": [
            "Laranja\n",
            "Banana\n",
            "Cereja\n"
          ]
        }
      ]
    },
    {
      "cell_type": "code",
      "source": [],
      "metadata": {
        "id": "-zC6NdXMDP74"
      },
      "execution_count": 9,
      "outputs": []
    },
    {
      "cell_type": "code",
      "source": [
        "# Um vlaor para múltiplas variaveis\n",
        "\n",
        "x = y = z =\"Laranja\"\n",
        "\n",
        "print(x)\n",
        "print(y)\n",
        "print(z)"
      ],
      "metadata": {
        "colab": {
          "base_uri": "https://localhost:8080/"
        },
        "id": "P92HHWwCD5bP",
        "outputId": "bd3b7860-4823-44fa-aa7d-f6e544726974"
      },
      "execution_count": 11,
      "outputs": [
        {
          "output_type": "stream",
          "name": "stdout",
          "text": [
            "Laranja\n",
            "Laranja\n",
            "Laranja\n"
          ]
        }
      ]
    },
    {
      "cell_type": "code",
      "source": [
        "# Coleção\n",
        "\n",
        "frutas = [\"Maçã\", \"Banana\", \"Creja\"]\n",
        "\n",
        "x , y, z = frutas\n",
        "\n",
        "# Descompactando a Coleção\n",
        "\n",
        "print(x)\n",
        "print(y)\n",
        "print(z)"
      ],
      "metadata": {
        "colab": {
          "base_uri": "https://localhost:8080/"
        },
        "id": "t4eI8oo6LCjC",
        "outputId": "65b02a45-ba34-4482-ecfe-fd9c85354e90"
      },
      "execution_count": 12,
      "outputs": [
        {
          "output_type": "stream",
          "name": "stdout",
          "text": [
            "Maçã\n",
            "Banana\n",
            "Creja\n"
          ]
        }
      ]
    },
    {
      "cell_type": "code",
      "source": [
        "# Variável Global\n",
        "# Criada FORA da Função\n",
        "# Utilizada por TODOS, dentro e fora da função\n",
        "\n",
        "# Função - Fórmula que executa um processo\n",
        "# Podemos atribuir uma função pelo termo \"def\"\n",
        "\n",
        "# Variáveis Locais\n",
        "# Criadas DENTRO das funções\n",
        "# Utilizada apenas pela função na qual foi criada\n",
        "\n",
        "# Criar uma variável Global fora da função e utilizar dentro da função\n",
        "\n",
        "x = \"Intuitivo\"\n",
        "\n",
        "def minha_funcao():\n",
        "  print(\"Python é \" + x)\n",
        "\n",
        "minha_funcao()"
      ],
      "metadata": {
        "colab": {
          "base_uri": "https://localhost:8080/"
        },
        "id": "ozxxhG21PBR8",
        "outputId": "f102ce19-2c88-4c78-c0be-62a34f21d29a"
      },
      "execution_count": 14,
      "outputs": [
        {
          "output_type": "stream",
          "name": "stdout",
          "text": [
            "Python é Intuitivo\n"
          ]
        }
      ]
    },
    {
      "cell_type": "code",
      "source": [
        "# Criar uma variável com o MESMO NOME DA GLOBAL, mas DENTRO DA FUNÇÃO\n",
        "\n",
        "x = \"intuitivo\" #global\n",
        "\n",
        "# Criar a Função\n",
        "\n",
        "def minha_funcao():\n",
        "  x = \"Fantástico\" # Variável Local, dentro da função\n",
        "  print(\"Python é \" + x) # Print dentro da função\n",
        "\n",
        "# Chamando a Função\n",
        "\n",
        "minha_funcao()\n",
        "\n",
        "# Criar um Print FORA da Função\n",
        "print(\"Python é \" + x) # Valor de x da Variável Global\n",
        "\n"
      ],
      "metadata": {
        "colab": {
          "base_uri": "https://localhost:8080/"
        },
        "id": "ncov57aRQjmC",
        "outputId": "7c09cd20-61bc-48ef-8540-39f1a6b4248f"
      },
      "execution_count": 19,
      "outputs": [
        {
          "output_type": "stream",
          "name": "stdout",
          "text": [
            "Python é Fantástico\n",
            "Python é intuitivo\n"
          ]
        },
        {
          "output_type": "execute_result",
          "data": {
            "text/plain": [
              "str"
            ]
          },
          "metadata": {},
          "execution_count": 19
        }
      ]
    },
    {
      "cell_type": "code",
      "source": [
        "# Palavra-chave \"global\"\n",
        "# Cria uma variável GLOBAL DENTRO de uma função\n",
        "# É como se convertesse a variável Local em Global"
      ],
      "metadata": {
        "id": "UxUYunrPS7Om"
      },
      "execution_count": null,
      "outputs": []
    },
    {
      "cell_type": "code",
      "source": [],
      "metadata": {
        "id": "-OIvHDanPC2c"
      },
      "execution_count": null,
      "outputs": []
    },
    {
      "cell_type": "code",
      "source": [
        "# Não tenho nenhuma variável Global Declarada\n",
        "\n",
        "# Criar a Função\n",
        "def minha_funcao():\n",
        "  global x\n",
        "  x = \"fantástico\" # Inicamente Local\n",
        "  print(\"Python é \"+ x)\n",
        "\n",
        "minha_funcao()\n",
        "print(\"Python é \"+ x)"
      ],
      "metadata": {
        "colab": {
          "base_uri": "https://localhost:8080/"
        },
        "id": "lhwQkvjITQtY",
        "outputId": "d032c71d-42ad-4701-e4d3-8920c2b22bc9"
      },
      "execution_count": 25,
      "outputs": [
        {
          "output_type": "stream",
          "name": "stdout",
          "text": [
            "Python é fantástico\n",
            "Python é fantástico\n"
          ]
        }
      ]
    }
  ]
}