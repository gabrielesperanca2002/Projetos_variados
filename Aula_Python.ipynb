{
  "nbformat": 4,
  "nbformat_minor": 0,
  "metadata": {
    "colab": {
      "provenance": [],
      "collapsed_sections": [
        "hp_uChfg85cR",
        "4RpbAYweW4qD",
        "L_dEVQfxdgl4"
      ],
      "authorship_tag": "ABX9TyNhHgNLJn8Efypl/3kXeS9Y",
      "include_colab_link": true
    },
    "kernelspec": {
      "name": "python3",
      "display_name": "Python 3"
    },
    "language_info": {
      "name": "python"
    }
  },
  "cells": [
    {
      "cell_type": "markdown",
      "metadata": {
        "id": "view-in-github",
        "colab_type": "text"
      },
      "source": [
        "<a href=\"https://colab.research.google.com/github/gabrielesperanca2002/javaScript-Aulas/blob/main/Aula_Python.ipynb\" target=\"_parent\"><img src=\"https://colab.research.google.com/assets/colab-badge.svg\" alt=\"Open In Colab\"/></a>"
      ]
    },
    {
      "cell_type": "code",
      "execution_count": null,
      "metadata": {
        "id": "cIZ_zP5H6dJ9"
      },
      "outputs": [],
      "source": []
    },
    {
      "cell_type": "markdown",
      "source": [
        "# Iniciando\n",
        "Vamos Iniciar o código"
      ],
      "metadata": {
        "id": "hp_uChfg85cR"
      }
    },
    {
      "cell_type": "code",
      "source": [
        "print(\"Olá, Mundo!\")"
      ],
      "metadata": {
        "colab": {
          "base_uri": "https://localhost:8080/"
        },
        "id": "xqezVrnF9Ll0",
        "outputId": "f1f0d5db-a02a-4858-d80b-0b2c5cd45601"
      },
      "execution_count": null,
      "outputs": [
        {
          "output_type": "stream",
          "name": "stdout",
          "text": [
            "Olá, Mundo!\n"
          ]
        }
      ]
    },
    {
      "cell_type": "code",
      "source": [],
      "metadata": {
        "id": "U9qJBJJK9BZJ"
      },
      "execution_count": null,
      "outputs": []
    },
    {
      "cell_type": "code",
      "source": [
        "# Indentação\n",
        "\n",
        "if 5 > 2:\n",
        "  print(\"Cinco é maior que dois.\")"
      ],
      "metadata": {
        "colab": {
          "base_uri": "https://localhost:8080/"
        },
        "id": "B_9b1heR9WkI",
        "outputId": "25fed2dc-28f2-4b97-ee38-64e575cbc0e3"
      },
      "execution_count": null,
      "outputs": [
        {
          "output_type": "stream",
          "name": "stdout",
          "text": [
            "Cinco é maior que dois.\n"
          ]
        }
      ]
    },
    {
      "cell_type": "code",
      "source": [
        "# Variáveis\n",
        "\n",
        "x = 5\n",
        "\n",
        "y = \"Estou no Curso\"\n",
        "\n",
        "print(x)\n",
        "\n",
        "print(y)\n",
        "\n",
        "\n",
        "# Casting - Declaração de Variáveis\n",
        "\n",
        "a = str(3) # String, Texto -> \"3\"\n",
        "\n",
        "b = int(3) # Integer, número inteiro --> 3\n",
        "\n",
        "c = float(3) # Float, número flutuante, decimal --# 3.0\n",
        "\n",
        "# Exibindo as variáveis\n",
        "\n",
        "print(a)\n",
        "print(b)\n",
        "print(c)"
      ],
      "metadata": {
        "colab": {
          "base_uri": "https://localhost:8080/"
        },
        "id": "jEh_8R1T-Mzl",
        "outputId": "c73c8bc8-a8a2-44e8-a64b-0e552c5cde31"
      },
      "execution_count": null,
      "outputs": [
        {
          "output_type": "stream",
          "name": "stdout",
          "text": [
            "5\n",
            "Estou no Curso\n",
            "3\n",
            "3\n",
            "3.0\n"
          ]
        }
      ]
    },
    {
      "cell_type": "code",
      "source": [
        "# Muiitos valores para múltiplas variáveis\n",
        "\n",
        "x, y, z = \"Laranja\", \"Banana\", \"Cereja\"\n",
        "\n",
        "print(x)\n",
        "print(y)\n",
        "print(z)\n",
        "\n",
        "#Shift + alt + Seta para baixo - Duplica a linha"
      ],
      "metadata": {
        "colab": {
          "base_uri": "https://localhost:8080/"
        },
        "id": "vBr7jfgeC85Y",
        "outputId": "70911142-8431-4f4e-c728-b3ce1b86aead"
      },
      "execution_count": null,
      "outputs": [
        {
          "output_type": "stream",
          "name": "stdout",
          "text": [
            "Laranja\n",
            "Banana\n",
            "Cereja\n"
          ]
        }
      ]
    },
    {
      "cell_type": "code",
      "source": [],
      "metadata": {
        "id": "-zC6NdXMDP74"
      },
      "execution_count": null,
      "outputs": []
    },
    {
      "cell_type": "code",
      "source": [
        "# Um vlaor para múltiplas variaveis\n",
        "\n",
        "x = y = z =\"Laranja\"\n",
        "\n",
        "print(x)\n",
        "print(y)\n",
        "print(z)"
      ],
      "metadata": {
        "colab": {
          "base_uri": "https://localhost:8080/"
        },
        "id": "P92HHWwCD5bP",
        "outputId": "bd3b7860-4823-44fa-aa7d-f6e544726974"
      },
      "execution_count": null,
      "outputs": [
        {
          "output_type": "stream",
          "name": "stdout",
          "text": [
            "Laranja\n",
            "Laranja\n",
            "Laranja\n"
          ]
        }
      ]
    },
    {
      "cell_type": "code",
      "source": [
        "# Coleção\n",
        "\n",
        "frutas = [\"Maçã\", \"Banana\", \"Creja\"]\n",
        "\n",
        "x , y, z = frutas\n",
        "\n",
        "# Descompactando a Coleção\n",
        "\n",
        "print(x)\n",
        "print(y)\n",
        "print(z)"
      ],
      "metadata": {
        "colab": {
          "base_uri": "https://localhost:8080/"
        },
        "id": "t4eI8oo6LCjC",
        "outputId": "65b02a45-ba34-4482-ecfe-fd9c85354e90"
      },
      "execution_count": null,
      "outputs": [
        {
          "output_type": "stream",
          "name": "stdout",
          "text": [
            "Maçã\n",
            "Banana\n",
            "Creja\n"
          ]
        }
      ]
    },
    {
      "cell_type": "code",
      "source": [
        "# Variável Global\n",
        "# Criada FORA da Função\n",
        "# Utilizada por TODOS, dentro e fora da função\n",
        "\n",
        "# Função - Fórmula que executa um processo\n",
        "# Podemos atribuir uma função pelo termo \"def\"\n",
        "\n",
        "# Variáveis Locais\n",
        "# Criadas DENTRO das funções\n",
        "# Utilizada apenas pela função na qual foi criada\n",
        "\n",
        "# Criar uma variável Global fora da função e utilizar dentro da função\n",
        "\n",
        "x = \"Intuitivo\"\n",
        "\n",
        "def minha_funcao():\n",
        "  print(\"Python é \" + x)\n",
        "\n",
        "minha_funcao()"
      ],
      "metadata": {
        "colab": {
          "base_uri": "https://localhost:8080/"
        },
        "id": "ozxxhG21PBR8",
        "outputId": "f102ce19-2c88-4c78-c0be-62a34f21d29a"
      },
      "execution_count": null,
      "outputs": [
        {
          "output_type": "stream",
          "name": "stdout",
          "text": [
            "Python é Intuitivo\n"
          ]
        }
      ]
    },
    {
      "cell_type": "code",
      "source": [
        "# Criar uma variável com o MESMO NOME DA GLOBAL, mas DENTRO DA FUNÇÃO\n",
        "\n",
        "x = \"intuitivo\" #global\n",
        "\n",
        "# Criar a Função\n",
        "\n",
        "def minha_funcao():\n",
        "  x = \"Fantástico\" # Variável Local, dentro da função\n",
        "  print(\"Python é \" + x) # Print dentro da função\n",
        "\n",
        "# Chamando a Função\n",
        "\n",
        "minha_funcao()\n",
        "\n",
        "# Criar um Print FORA da Função\n",
        "print(\"Python é \" + x) # Valor de x da Variável Global\n",
        "\n"
      ],
      "metadata": {
        "colab": {
          "base_uri": "https://localhost:8080/"
        },
        "id": "ncov57aRQjmC",
        "outputId": "7c09cd20-61bc-48ef-8540-39f1a6b4248f"
      },
      "execution_count": null,
      "outputs": [
        {
          "output_type": "stream",
          "name": "stdout",
          "text": [
            "Python é Fantástico\n",
            "Python é intuitivo\n"
          ]
        },
        {
          "output_type": "execute_result",
          "data": {
            "text/plain": [
              "str"
            ]
          },
          "metadata": {},
          "execution_count": 19
        }
      ]
    },
    {
      "cell_type": "code",
      "source": [
        "# Palavra-chave \"global\"\n",
        "# Cria uma variável GLOBAL DENTRO de uma função\n",
        "# É como se convertesse a variável Local em Global"
      ],
      "metadata": {
        "id": "UxUYunrPS7Om"
      },
      "execution_count": null,
      "outputs": []
    },
    {
      "cell_type": "code",
      "source": [
        "# Não tenho nenhuma variável Global Declarada\n",
        "\n",
        "# Criar a Função\n",
        "def minha_funcao():\n",
        "  global x\n",
        "  x = \"fantástico\" # Inicamente Local\n",
        "  print(\"Python é \"+ x)\n",
        "\n",
        "minha_funcao()\n",
        "print(\"Python é \"+ x)"
      ],
      "metadata": {
        "colab": {
          "base_uri": "https://localhost:8080/"
        },
        "id": "lhwQkvjITQtY",
        "outputId": "d032c71d-42ad-4701-e4d3-8920c2b22bc9"
      },
      "execution_count": null,
      "outputs": [
        {
          "output_type": "stream",
          "name": "stdout",
          "text": [
            "Python é fantástico\n",
            "Python é fantástico\n"
          ]
        }
      ]
    },
    {
      "cell_type": "code",
      "source": [
        "# Também é possível utilizar a palavra-chave GLOBAL para alterar Globalmente\n",
        "# uma variável Global Dentro de uma Função.\n",
        "# Reescreve a Global.\n",
        "\n",
        "#Declarar Variável Global\n",
        "\n",
        "x = \"Incrível\"\n",
        "\n",
        "# Crar a Função\n",
        "\n",
        "def minha_funcao():\n",
        "  global x\n",
        "  x = \"fantástico\"\n",
        "  print(\"Python é \" + x)\n",
        "\n",
        "# Chamar a Função\n",
        "minha_funcao()\n",
        "\n",
        "#Print fora da Função\n",
        "print(\"Python é \"+ x)"
      ],
      "metadata": {
        "colab": {
          "base_uri": "https://localhost:8080/"
        },
        "id": "aYIg06WMUsdn",
        "outputId": "2af1bd41-9cc2-4acc-df13-2598083b2d37"
      },
      "execution_count": null,
      "outputs": [
        {
          "output_type": "stream",
          "name": "stdout",
          "text": [
            "Python é fantástico\n",
            "Python é fantástico\n"
          ]
        }
      ]
    },
    {
      "cell_type": "markdown",
      "source": [
        "# Pseudocódigo\n",
        "\n",
        "Codigo Falso, escrever em português as instruções para depois \"traduzir\" para a programação.\n",
        "\n",
        "Criando a Lógica, a sequeência das instruções do algoritmo."
      ],
      "metadata": {
        "id": "RI3q9xVOWiS7"
      }
    },
    {
      "cell_type": "markdown",
      "source": [
        "## Etapas\n",
        "1. Defina três variaveis: num1, num2, num3\n",
        "\n",
        "2. Atribua valores a essas variavéis\n",
        "\n",
        "3. Calcule a médica dos três números.\n",
        "\n",
        "4. Verifique se a média é maior que 10\n",
        "\n",
        "5. Imprima a média e uma mensagem indicando se é maior que 10 ou não."
      ],
      "metadata": {
        "id": "4RpbAYweW4qD"
      }
    },
    {
      "cell_type": "code",
      "source": [
        "# Etapa 1 e 2\n",
        "\n",
        "num1 = 10\n",
        "num2 = 23\n",
        "num3 = 11\n",
        "\n",
        "# Etapa 3\n",
        "# Criar 2 variáveis: Soma e Média\n",
        "\n",
        "soma = num1 + num2 + num3\n",
        "\n",
        "media = soma/3\n",
        "\n",
        "# Poderia ter feito uma variável apenas, de Média\n",
        "#media = (num1 + num2 + num3) / 3\n",
        "\n",
        "# etapa 4\n",
        "# Criar a variavel resultado\n",
        "\n",
        "resultado = \"Maior que 10\" if media > 10 else \"Menor igual a 10\"\n",
        "\n",
        "# Etapa 5\n",
        "print(\"Número 1: \", num1)\n",
        "print(\"Número 2: \", num2)\n",
        "print(\"Número 3: \", num3)\n",
        "print(\"Soma: \", soma)\n",
        "print(\"Média: \", media)\n",
        "print(\"Resultado: \", resultado)\n"
      ],
      "metadata": {
        "colab": {
          "base_uri": "https://localhost:8080/"
        },
        "id": "9laQbGRwcYee",
        "outputId": "95227c5d-7dc7-4863-aedf-8091280b083d"
      },
      "execution_count": null,
      "outputs": [
        {
          "output_type": "stream",
          "name": "stdout",
          "text": [
            "Número 1:  10\n",
            "Número 2:  23\n",
            "Número 3:  11\n",
            "Soma:  44\n",
            "Média:  14.666666666666666\n",
            "Resultado:  Maior que 10\n"
          ]
        }
      ]
    },
    {
      "cell_type": "markdown",
      "source": [
        "## Calculadora de IMC"
      ],
      "metadata": {
        "id": "L_dEVQfxdgl4"
      }
    },
    {
      "cell_type": "markdown",
      "source": [
        "Pseudocódigo\n",
        "\n",
        "1. Solicite ao usuário que insira seu pedo em quilogramas.\n",
        "\n",
        "2. Solicite ao usuário que insira sua altura em metros.\n",
        "\n",
        "3. Calcule o IMC usando a fórmula = peso / (altura * altura)\n",
        "\n",
        "4. Imprima o resultado do IMC\n",
        "\n",
        "5. Verifique em que faixa de peso o usuário se encontra, com base em seu IMC.\n"
      ],
      "metadata": {
        "id": "TYe7nM2_1m_a"
      }
    },
    {
      "cell_type": "code",
      "source": [
        "# Etapa 1\n",
        "\n",
        "peso = float(input(\"Digite o seu peso em quilogramas: \"))\n",
        "\n",
        "# Etapa 2\n",
        "\n",
        "altura = float(input(\"Digite a sua altura em metros: \"))\n",
        "\n",
        "\n",
        "# Etapa 3\n",
        "\n",
        "imc = peso / (altura * altura)\n",
        "\n",
        "# Etapa 4\n",
        "\n",
        "print(\"Seu índice de Massa Corporal (IMC) é: \", imc)\n",
        "\n",
        "# Etapa 5\n",
        "\n",
        "if imc < 18.5:\n",
        "  print(\"Você está abaixo do peso normal.\")\n",
        "elif imc < 25:\n",
        "  print(\"Você está dentro da faixa do peso normal.\")\n",
        "elif imc < 30:\n",
        "  print(\"Você está com sobrepeso.\")\n",
        "elif imc < 35:\n",
        "  print(\"Você está com obesidade grau I.\")\n",
        "elif imc < 40:\n",
        "  print(\"Você está com obesidade grau II.\")\n",
        "else:\n",
        "  print(\"VOcê está com obesidade grau III\")\n",
        "\n"
      ],
      "metadata": {
        "colab": {
          "base_uri": "https://localhost:8080/"
        },
        "id": "yD_ncO2g2LA5",
        "outputId": "31d7052f-e6d4-4d6b-cd75-ca305686bd25"
      },
      "execution_count": null,
      "outputs": [
        {
          "output_type": "stream",
          "name": "stdout",
          "text": [
            "Digite o seu peso em quilogramas: 82\n",
            "Digite a sua altura em metros: 1.83\n",
            "Seu índice de Massa Corporal (IMC) é:  24.48565200513601\n",
            "Você está dentro da faixa do peso normal.\n"
          ]
        }
      ]
    },
    {
      "cell_type": "markdown",
      "source": [
        "Conversor de Celsius para Farenheit\n",
        "\n",
        "Pseudocódigo\n",
        "\n",
        "1. Solicite ao usuário que insira a temperatura em graus Celsius.\n",
        "\n",
        "2. Calcule a temperatura em graus Farenheit, utilizando a fórmula: farenheit = (celsius * 9/5) + 32 ----> 9/5 = 1.8\n",
        "\n",
        "3. Imprima o resultado da temperatura em graus farenheit.\n"
      ],
      "metadata": {
        "id": "c_I2NKNX5_dk"
      }
    },
    {
      "cell_type": "code",
      "source": [
        "# Etapa 1\n",
        "\n",
        "celsius = float(input(\"Digite a temperatura em graus Celsius: \"))\n",
        "\n",
        "#Etapa 2\n",
        "\n",
        "faren = (celsius * 9/5) + 32\n",
        "\n",
        "#Etapa 3\n",
        "\n",
        "print(\"A temperatura em graus Farenheit é: \", faren)\n"
      ],
      "metadata": {
        "colab": {
          "base_uri": "https://localhost:8080/"
        },
        "id": "YCTFZCUe6aSO",
        "outputId": "c5568ccf-bdbf-432e-f8aa-a0b7d4d59de4"
      },
      "execution_count": null,
      "outputs": [
        {
          "output_type": "stream",
          "name": "stdout",
          "text": [
            "Digite a temperatura em graus Celsius: 32\n",
            "A temperatura em graus Farenheit é:  89.6\n"
          ]
        }
      ]
    },
    {
      "cell_type": "markdown",
      "source": [
        "## Tipos de Variáveis\n"
      ],
      "metadata": {
        "id": "dHAJ_4ig8bnp"
      }
    },
    {
      "cell_type": "code",
      "source": [
        "# Texto: str\n",
        "\n",
        "nome = \"Fernando\"\n",
        "\n",
        "# Númericos: int, float, complex\n",
        "\n",
        "idade = 30 #int\n",
        "altura = 1.75 #float\n",
        "numero_complexo = 2 + 3j # alfanumerico\n",
        "\n",
        "# Sequèncias: list, tuple, range\n",
        "\n",
        "lista_numeros = [1, 2, 3, 4, 5]\n",
        "\n",
        "tupla_cores = (\"vermelho\", \"azul\", \"verde\")\n",
        "\n",
        "intervalo = range(0, 10)\n",
        "\n",
        "# Mapeamento: dict\n",
        "\n",
        "dict_alunos = {\"João\": 18, \"Maria\": 20, \"Pedro\": 22}\n",
        "\n",
        "# Conjuntos: set, frozenset\n",
        "conjunto_vogais = {\"a\", \"e\", \"i\", \"o\", \"u\"}\n",
        "conjunto_imutavel = frozenset({1, 2, 3})\n",
        "\n",
        "# Booleano: bool\n",
        "verdadeiro = True\n",
        "falso = False\n"
      ],
      "metadata": {
        "id": "5UZzd7EO8gKh"
      },
      "execution_count": null,
      "outputs": []
    },
    {
      "cell_type": "markdown",
      "source": [
        "# Listas\n",
        "\n",
        "Armazena uma série de itens em uma ORDEM ESPECÍFICA. Acesa os itens utilizando um índice ou dentro de um loop.\n",
        "\n",
        "List - Ordem importa, não admite Duplicados, Mutável - Usamos []\n",
        "\n",
        "Tupla - Ordem importa. Ordem é importante, não pode ser modificada. Usamos ()\n",
        "\n",
        "Conjunto - Ordem não importa adimite duplicados. Mutável --> set {}\n",
        "\n",
        "Tornar o conjunto ImutáVel --> frozenset no conjunto {} --> frozenset{}-->frozenset({1,2,3})"
      ],
      "metadata": {
        "id": "ot2rrP8f_owU"
      }
    },
    {
      "cell_type": "code",
      "source": [
        "# Criar uma lista\n",
        "\n",
        "departamentos = [\"Jurídico\", \"Financeiro\", \"Vendas\"]\n",
        "\n",
        "# Chamando a Lista\n",
        "departamentos\n",
        "\n",
        "# Obter o primeiro Item da Lista\n",
        "primeiro_departamento = departamentos[0]\n",
        "\n",
        "primeiro_departamento\n",
        "\n",
        "# Obter o Último Item da Lista\n",
        "ultimo_departamento = departamentos[-1]\n",
        "\n",
        "# 0 é o primeiro item da lista\n",
        "# -1 é o último item da lista\n",
        "\n",
        "ultimo_departamento\n",
        "\n"
      ],
      "metadata": {
        "colab": {
          "base_uri": "https://localhost:8080/",
          "height": 35
        },
        "id": "VE5iUT4GA-tk",
        "outputId": "f019410e-9d97-4bba-ece6-4463087e8a61"
      },
      "execution_count": null,
      "outputs": [
        {
          "output_type": "execute_result",
          "data": {
            "text/plain": [
              "'Vendas'"
            ],
            "application/vnd.google.colaboratory.intrinsic+json": {
              "type": "string"
            }
          },
          "metadata": {},
          "execution_count": 13
        }
      ]
    },
    {
      "cell_type": "markdown",
      "source": [
        "Estrutura de Repetição --> For (Para cada)"
      ],
      "metadata": {
        "id": "MHWChYjECskv"
      }
    },
    {
      "cell_type": "code",
      "source": [
        "# Percorrengo uma Lista\n",
        "\n",
        "# For - Repetição\n",
        "\n",
        "for departamento in departamentos:\n",
        "  print(departamento)"
      ],
      "metadata": {
        "colab": {
          "base_uri": "https://localhost:8080/"
        },
        "id": "rltterItC0iy",
        "outputId": "a1ff3468-b888-4bf2-93d5-a6451a2ac736"
      },
      "execution_count": null,
      "outputs": [
        {
          "output_type": "stream",
          "name": "stdout",
          "text": [
            "Jurídico\n",
            "Financeiro\n",
            "Vendas\n"
          ]
        }
      ]
    },
    {
      "cell_type": "markdown",
      "source": [
        "## Adicionando Itens a uma Lista"
      ],
      "metadata": {
        "id": "1AncXbnjDTeT"
      }
    },
    {
      "cell_type": "code",
      "source": [
        "# Criar uma lista em Branco, vazia\n",
        "\n",
        "departamentos = []\n",
        "\n",
        "# Chamar a Lista\n",
        "departamentos\n",
        "\n",
        "# Para adicionar Itens à Lista, usar o método Append <-- preenche a lista\n",
        "\n",
        "#Lista.append(\"Item\")\n",
        "\n",
        "departamentos.append(\"Marketing\")\n",
        "departamentos.append(\"Gerência\")\n",
        "departamentos.append(\"Presidência\")\n",
        "\n",
        "# Chamando a Lista Atualizada\n",
        "departamentos"
      ],
      "metadata": {
        "colab": {
          "base_uri": "https://localhost:8080/"
        },
        "id": "ZIPgi6y_DVvM",
        "outputId": "8416a54d-a45d-4c67-b965-a41cda4b7371"
      },
      "execution_count": null,
      "outputs": [
        {
          "output_type": "execute_result",
          "data": {
            "text/plain": [
              "['Marketing', 'Gerência', 'Presidência']"
            ]
          },
          "metadata": {},
          "execution_count": 16
        }
      ]
    },
    {
      "cell_type": "markdown",
      "source": [
        "## Desafio: Pseudocódigo\n",
        "\n",
        "1. Quero Criar uma Lista Vazia\n",
        "\n",
        "2. Quero contar os números de 1 a 10\n",
        "\n",
        "3. Quero elevar esses números ao quadrado\n",
        "\n",
        "4. Quero preencher a lista com os quadrados dos números de 1 a 10"
      ],
      "metadata": {
        "id": "-UePEpxSEPgq"
      }
    },
    {
      "cell_type": "code",
      "source": [
        "quadrados = []\n",
        "\n",
        "for x in range(1, 11): # Para cada (for) item (x) no intervalo de 1 a 10 (range(1,11))\n",
        "  quadrados.append(x**2) # Quero pegar a lista (quadrados) e preencher (append) com o quadrado do valor (x**2)\n",
        "\n",
        "quadrados"
      ],
      "metadata": {
        "colab": {
          "base_uri": "https://localhost:8080/"
        },
        "id": "Ivj9JReWEvsq",
        "outputId": "9849372b-1551-4dbc-a830-4951879e9817"
      },
      "execution_count": null,
      "outputs": [
        {
          "output_type": "execute_result",
          "data": {
            "text/plain": [
              "[1, 4, 9, 16, 25, 36, 49, 64, 81, 100]"
            ]
          },
          "metadata": {},
          "execution_count": 17
        }
      ]
    },
    {
      "cell_type": "code",
      "source": [
        "# Compressão de Lista\n",
        "\n",
        "quadrados = [x**2 for x in range(1 , 11)]\n",
        "\n",
        "quadrados"
      ],
      "metadata": {
        "colab": {
          "base_uri": "https://localhost:8080/"
        },
        "id": "7avaqoa8Fwe_",
        "outputId": "3d9dc89a-4070-4d90-c157-a7d7478e4a63"
      },
      "execution_count": null,
      "outputs": [
        {
          "output_type": "execute_result",
          "data": {
            "text/plain": [
              "[1, 4, 9, 16, 25, 36, 49, 64, 81, 100]"
            ]
          },
          "metadata": {},
          "execution_count": 19
        }
      ]
    },
    {
      "cell_type": "code",
      "source": [
        "# Fatiando uma Lista\n",
        "\n",
        "nomes = [\"João\", \"Maria\", \"Fernando\", \"Ane\"]\n",
        "\n",
        "# Acessando os dois primeiros nomes da lista\n",
        "\n",
        "nomes_dividir = nomes[:2]\n",
        "\n",
        "nomes_dividir"
      ],
      "metadata": {
        "colab": {
          "base_uri": "https://localhost:8080/"
        },
        "id": "Ug8xjyL0GHwd",
        "outputId": "72940c34-36b2-480f-a54d-63cda4141e2d"
      },
      "execution_count": null,
      "outputs": [
        {
          "output_type": "execute_result",
          "data": {
            "text/plain": [
              "['João', 'Maria']"
            ]
          },
          "metadata": {},
          "execution_count": 20
        }
      ]
    },
    {
      "cell_type": "code",
      "source": [
        "# Copiando uma lista\n",
        "\n",
        "copiar_de_nomes = nomes[:]\n",
        "\n",
        "copiar_de_nomes"
      ],
      "metadata": {
        "colab": {
          "base_uri": "https://localhost:8080/"
        },
        "id": "QgrHfz5YGmJ_",
        "outputId": "d3d41197-92e8-442a-dd19-c5ae0f1fc366"
      },
      "execution_count": null,
      "outputs": [
        {
          "output_type": "execute_result",
          "data": {
            "text/plain": [
              "['João', 'Maria', 'Fernando', 'Ane']"
            ]
          },
          "metadata": {},
          "execution_count": 21
        }
      ]
    },
    {
      "cell_type": "code",
      "source": [
        "# Adicionando Itens a Lista pelo Operador +\n",
        "\n",
        "# Criando uma Lista Vazia\n",
        "\n",
        "minha_lista = []\n",
        "\n",
        "# Criando uma Lista Preenchida\n",
        "\n",
        "itens = [\"item 1\", \"item 2\", \"item 3\"]\n",
        "\n",
        "# Adicionar os itens da segunda lista na primeira\n",
        "\n",
        "minha_lista += itens\n",
        "\n",
        "print(minha_lista)"
      ],
      "metadata": {
        "colab": {
          "base_uri": "https://localhost:8080/"
        },
        "id": "Fqap02hfHAqZ",
        "outputId": "dc85d97d-8e2b-4225-c84f-661d65935298"
      },
      "execution_count": null,
      "outputs": [
        {
          "output_type": "stream",
          "name": "stdout",
          "text": [
            "['item 1', 'item 2', 'item 3']\n"
          ]
        }
      ]
    },
    {
      "cell_type": "code",
      "source": [
        "# Adicionando itens à lista por meio do Extend\n",
        "\n",
        "# Criar Lista Vazia\n",
        "\n",
        "minha_lista = []\n",
        "\n",
        "# Criar uma Tupla\n",
        "\n",
        "itens = (\"item 1\", \"item 2\", \"item 3\")\n",
        "\n",
        "# Extendendo minha lista aos elementos da tupla\n",
        "\n",
        "minha_lista.extend(itens)\n",
        "\n",
        "print(minha_lista)\n",
        "\n",
        "['item 1', 'item 2', 'item 3']"
      ],
      "metadata": {
        "colab": {
          "base_uri": "https://localhost:8080/"
        },
        "id": "APCLfKsAJK_2",
        "outputId": "d9ed9006-ca05-4d7f-cf2d-99005fc0f599"
      },
      "execution_count": null,
      "outputs": [
        {
          "output_type": "stream",
          "name": "stdout",
          "text": [
            "['item 1', 'item 2', 'item 3']\n"
          ]
        },
        {
          "output_type": "execute_result",
          "data": {
            "text/plain": [
              "['item 1', 'item 2', 'item 3']"
            ]
          },
          "metadata": {},
          "execution_count": 24
        }
      ]
    },
    {
      "cell_type": "markdown",
      "source": [
        "# Tuplas\n",
        "\n",
        "Semelhantes às listas, mas os itens não podem ser modificados"
      ],
      "metadata": {
        "id": "P54MMCM_KCDK"
      }
    },
    {
      "cell_type": "code",
      "source": [
        "# Criando uma tupla\n",
        "\n",
        "dimensoes = (1920, 1080)\n",
        "\n",
        "dimensoes"
      ],
      "metadata": {
        "colab": {
          "base_uri": "https://localhost:8080/"
        },
        "id": "XTMi1b-TKJP8",
        "outputId": "8d0667e2-f9b7-45f1-eb3d-a0f935bb47bb"
      },
      "execution_count": null,
      "outputs": [
        {
          "output_type": "execute_result",
          "data": {
            "text/plain": [
              "(1920, 1080)"
            ]
          },
          "metadata": {},
          "execution_count": 25
        }
      ]
    },
    {
      "cell_type": "code",
      "source": [
        "# Atribuindo valores a Tuplas\n",
        "\n",
        "# Criando uma Tupla\n",
        "\n",
        "tupla = (\"Maçã\", \"Banana\", \"Laranja\")\n",
        "\n",
        "fruta1, fruta2, fruta3 = tupla\n",
        "\n",
        "print(fruta1)\n",
        "print(fruta2)\n",
        "print(fruta3)\n"
      ],
      "metadata": {
        "colab": {
          "base_uri": "https://localhost:8080/"
        },
        "id": "Pty7et1SKTUM",
        "outputId": "3be1f3e5-d1e9-44ab-bcf3-f9f5e279fca9"
      },
      "execution_count": null,
      "outputs": [
        {
          "output_type": "stream",
          "name": "stdout",
          "text": [
            "Maçã\n",
            "Banana\n",
            "Laranja\n"
          ]
        }
      ]
    },
    {
      "cell_type": "code",
      "source": [
        "# Acessando elemntos da Tupla\n",
        "\n",
        "tupla = (\"Maçã\", \"Banana\", \"Laranja\")\n",
        "\n",
        "# Acessando os Elementos\n",
        "\n",
        "print(tupla[0])\n",
        "print(tupla[1])\n",
        "print(tupla[2])"
      ],
      "metadata": {
        "colab": {
          "base_uri": "https://localhost:8080/"
        },
        "id": "fcZju2gkKs7_",
        "outputId": "8cc4d74b-b64a-4730-8a6c-0b2c3cf57a55"
      },
      "execution_count": null,
      "outputs": [
        {
          "output_type": "stream",
          "name": "stdout",
          "text": [
            "Maçã\n",
            "Banana\n",
            "Laranja\n"
          ]
        }
      ]
    },
    {
      "cell_type": "code",
      "source": [
        "# Concatenando Tuplas\n",
        "\n",
        "tupla1 = (1, 2, 3)\n",
        "tupla2 = (4, 5, 6)\n",
        "\n",
        "tupla_concatenada = tupla1 + tupla2\n",
        "\n",
        "tupla_concatenada\n",
        "\n"
      ],
      "metadata": {
        "colab": {
          "base_uri": "https://localhost:8080/"
        },
        "id": "F8EBiPV6LHs1",
        "outputId": "be2bd65e-d1ef-42b6-e809-0a74571430fd"
      },
      "execution_count": null,
      "outputs": [
        {
          "output_type": "execute_result",
          "data": {
            "text/plain": [
              "(1, 2, 3, 4, 5, 6)"
            ]
          },
          "metadata": {},
          "execution_count": 33
        }
      ]
    },
    {
      "cell_type": "code",
      "source": [
        "# Descompactando Tuplas\n",
        "\n",
        "tupla = (\"João\", 25, \"Brasil\")\n",
        "\n",
        "nome, idade, pais = tupla\n",
        "\n",
        "print(nome)\n",
        "print(idade)\n",
        "print(pais)"
      ],
      "metadata": {
        "colab": {
          "base_uri": "https://localhost:8080/"
        },
        "id": "t-db3_BoLU4_",
        "outputId": "a0594b28-f7ce-44cd-82a8-a238eb7aa887"
      },
      "execution_count": null,
      "outputs": [
        {
          "output_type": "stream",
          "name": "stdout",
          "text": [
            "João\n",
            "25\n",
            "Brasil\n"
          ]
        }
      ]
    },
    {
      "cell_type": "markdown",
      "source": [
        "#Valores aleatorios\n",
        "\n",
        "Python possui um \"Modulo\" random\n",
        "imbutido, acessado pela função import|"
      ],
      "metadata": {
        "id": "RNhwFhfUThr0"
      }
    },
    {
      "cell_type": "code",
      "source": [
        "# Gerando um número aleatório\n",
        "\n",
        "#Importa o módulo random\n",
        "\n",
        "import random\n",
        "\n",
        "# Criando a Variável de Número Aleatório\n",
        "\n",
        "numero_aleatorio = random.random()\n",
        "\n",
        "print(numero_aleatorio)\n",
        "\n",
        "# Número Inteiro Aleatório\n",
        "numero_inteiro_aleatorio = random.randint(1, 100)\n",
        "\n",
        "print(numero_inteiro_aleatorio)\n",
        "\n",
        "# Criando um número flutuante aleatório\n",
        "\n",
        "numero_flutuante_aleatorio = random.uniform(1.5 , 3.5)\n",
        "\n",
        "print(numero_flutuante_aleatorio)"
      ],
      "metadata": {
        "colab": {
          "base_uri": "https://localhost:8080/"
        },
        "id": "ZdHQpvLbTvDH",
        "outputId": "ec87bb64-0ea1-47c6-8343-e0fc2b29b20a"
      },
      "execution_count": null,
      "outputs": [
        {
          "output_type": "stream",
          "name": "stdout",
          "text": [
            "0.14374540066628905\n",
            "38\n",
            "2.9934688422695617\n"
          ]
        }
      ]
    },
    {
      "cell_type": "code",
      "source": [
        "# Gerando um Escolha aleatório de uma Lista\n",
        "\n",
        "# Criar a Lista\n",
        "\n",
        "lista_opcoes = [\"a\", \"b\", \"c\", \"d\", \"e\"]\n",
        "\n",
        "# Importa o Módulo Random\n",
        "\n",
        "import random\n",
        "\n",
        "escolha_aleatoria = random.choice(lista_opcoes)\n",
        "\n",
        "print(escolha_aleatoria)"
      ],
      "metadata": {
        "colab": {
          "base_uri": "https://localhost:8080/"
        },
        "id": "3eeFZ6bdU4YV",
        "outputId": "fb2f9986-bf51-4abc-af8c-849d56881f10"
      },
      "execution_count": null,
      "outputs": [
        {
          "output_type": "stream",
          "name": "stdout",
          "text": [
            "d\n"
          ]
        }
      ]
    },
    {
      "cell_type": "code",
      "source": [
        "# Embaralhando uma Lista Aleatoriamente\n",
        "\n",
        "# Criar a Lista\n",
        "\n",
        "lista_numeros = [1, 2, 3, 4, 5]\n",
        "\n",
        "# Embaralhando\n",
        "\n",
        "random.shuffle(lista_numeros)\n",
        "\n",
        "print(lista_numeros)\n",
        "\n",
        "# Escolher mais de um numero aleatório na lista\n",
        "\n",
        "numeros_aleatorios = random.sample(lista_numeros, 3)\n",
        "\n",
        "print(numeros_aleatorios)\n"
      ],
      "metadata": {
        "colab": {
          "base_uri": "https://localhost:8080/"
        },
        "id": "jD2bRKmHVs5l",
        "outputId": "7ee0ff88-de40-425e-84a7-ab79b69e467d"
      },
      "execution_count": null,
      "outputs": [
        {
          "output_type": "stream",
          "name": "stdout",
          "text": [
            "[2, 3, 5, 4, 1]\n",
            "[1, 3, 2]\n"
          ]
        }
      ]
    },
    {
      "cell_type": "code",
      "source": [
        "# Sortear os números apenas uma vez (até que todos tenha saído)\n",
        "\n",
        "import random\n",
        "\n",
        "# Criar a lista de 1 a 16\n",
        "\n",
        "numeros = list(range(1, 17))\n",
        "\n",
        "# Loop para sortear ATÉ QUE todos sejam escolhidos\n",
        "\n",
        "while numeros:\n",
        "  sorteado = random.choice(numeros)\n",
        "  print(f\"Número Sorteado: {sorteado}\")\n",
        "  numeros.remove(sorteado)\n",
        "\n",
        "print(\"Todos os números foram sorteados\")"
      ],
      "metadata": {
        "colab": {
          "base_uri": "https://localhost:8080/"
        },
        "id": "CzqEtEmwW3tc",
        "outputId": "a78f23a4-d12a-409c-db28-25546d6e95b4"
      },
      "execution_count": null,
      "outputs": [
        {
          "output_type": "stream",
          "name": "stdout",
          "text": [
            "Número Sorteado: 1\n",
            "Número Sorteado: 15\n",
            "Número Sorteado: 8\n",
            "Número Sorteado: 4\n",
            "Número Sorteado: 11\n",
            "Número Sorteado: 5\n",
            "Número Sorteado: 10\n",
            "Número Sorteado: 13\n",
            "Número Sorteado: 3\n",
            "Número Sorteado: 9\n",
            "Número Sorteado: 16\n",
            "Número Sorteado: 6\n",
            "Número Sorteado: 2\n",
            "Número Sorteado: 12\n",
            "Número Sorteado: 14\n",
            "Número Sorteado: 7\n",
            "Todos os números foram sorteados\n"
          ]
        }
      ]
    },
    {
      "cell_type": "code",
      "source": [
        "\n",
        "\n",
        "\n",
        "\n",
        "\n",
        "\n",
        "\n",
        "\n",
        "\n",
        "\n",
        "import random\n",
        "\n",
        "numeros = list(range(1, 17))\n",
        "\n",
        "while numeros:\n",
        "  input(\"Pressione Enter para sortear o próximo número.\")\n",
        "  sorteado = random.choice(numeros)\n",
        "  print(f\"Número Sorteado: {sorteado}\")\n",
        "  numeros.remove(sorteado)\n",
        "  print(f\"Números restantes {numeros}\")\n",
        "\n",
        "print(\"Todos os números foram sorteados\")\n",
        "\n"
      ],
      "metadata": {
        "colab": {
          "base_uri": "https://localhost:8080/"
        },
        "id": "hLf96E3pYzDY",
        "outputId": "2d8b6ba6-3847-41db-9ad3-a9b0f2258a13"
      },
      "execution_count": null,
      "outputs": [
        {
          "output_type": "stream",
          "name": "stdout",
          "text": [
            "Pressione Enter para sortear o próximo número.\n",
            "Pressione Enter para sortear o próximo número.\n",
            "Número Sorteado: 12\n",
            "Números restantes [1, 2, 3, 4, 5, 6, 7, 8, 9, 10, 11, 13, 14, 15, 16]\n",
            "Número Sorteado: 11\n",
            "Números restantes [1, 2, 3, 4, 5, 6, 7, 8, 9, 10, 13, 14, 15, 16]\n",
            "Pressione Enter para sortear o próximo número.\n",
            "Número Sorteado: 14\n",
            "Números restantes [1, 2, 3, 4, 5, 6, 7, 8, 9, 10, 13, 15, 16]\n",
            "Pressione Enter para sortear o próximo número.\n",
            "Número Sorteado: 10\n",
            "Números restantes [1, 2, 3, 4, 5, 6, 7, 8, 9, 13, 15, 16]\n",
            "Pressione Enter para sortear o próximo número.\n",
            "Número Sorteado: 15\n",
            "Números restantes [1, 2, 3, 4, 5, 6, 7, 8, 9, 13, 16]\n",
            "Pressione Enter para sortear o próximo número.\n",
            "Número Sorteado: 8\n",
            "Números restantes [1, 2, 3, 4, 5, 6, 7, 9, 13, 16]\n",
            "Pressione Enter para sortear o próximo número.\n",
            "Número Sorteado: 4\n",
            "Números restantes [1, 2, 3, 5, 6, 7, 9, 13, 16]\n",
            "Pressione Enter para sortear o próximo número.\n",
            "Pressione Enter para sortear o próximo número.\n",
            "Número Sorteado: 9\n",
            "Números restantes [1, 2, 3, 5, 6, 7, 13, 16]\n",
            "Número Sorteado: 2\n",
            "Números restantes [1, 3, 5, 6, 7, 13, 16]\n",
            "Pressione Enter para sortear o próximo número.\n",
            "Número Sorteado: 16\n",
            "Números restantes [1, 3, 5, 6, 7, 13]\n",
            "Pressione Enter para sortear o próximo número.\n",
            "Número Sorteado: 6\n",
            "Números restantes [1, 3, 5, 7, 13]\n",
            "Pressione Enter para sortear o próximo número.\n",
            "Número Sorteado: 7\n",
            "Números restantes [1, 3, 5, 13]\n",
            "Pressione Enter para sortear o próximo número.\n",
            "Número Sorteado: 5\n",
            "Números restantes [1, 3, 13]\n",
            "Pressione Enter para sortear o próximo número.\n",
            "Número Sorteado: 13\n",
            "Números restantes [1, 3]\n",
            "Pressione Enter para sortear o próximo número.\n",
            "Número Sorteado: 1\n",
            "Números restantes [3]\n",
            "Pressione Enter para sortear o próximo número.\n",
            "Número Sorteado: 3\n",
            "Números restantes []\n",
            "Todos os números foram sorteados\n"
          ]
        }
      ]
    },
    {
      "cell_type": "markdown",
      "source": [
        "# Modificando Strings"
      ],
      "metadata": {
        "id": "f8wtxrbCaQOz"
      }
    },
    {
      "cell_type": "code",
      "source": [
        "texto = \"Olá, mundo!\"\n",
        "\n",
        "# Minúsculo\n",
        "print(texto.lower())\n",
        "\n",
        "# Maiúsculo\n",
        "print(texto.upper())\n",
        "\n",
        "# Capitalize\n",
        "print(texto.capitalize())\n",
        "\n",
        "#tilte\n",
        "print(texto.title())\n",
        "\n",
        "#swapcase --> Inverte Maiúsculo e Minúsculo\n",
        "print(texto.swapcase())\n",
        "\n",
        "# Contar o Número de Ocorrência de um Caractere\n",
        "print(texto.count(\"o\"))\n",
        "\n",
        "# Localizar a primeira Ocorrência de uma Substring na String\n",
        "print(texto.find(\"mundo\"))\n",
        "\n",
        "# Substituir String\n",
        "print(texto.replace(\"mundo\", \"Python\"))\n",
        "\n",
        "# Dividir a String em substring com base em um delimitador\n",
        "print(texto.split(\",\"))\n",
        "\n",
        "\n",
        "# Unir elementos de uma lista em uma String\n",
        "\n",
        "# Criar a Lista\n",
        "\n",
        "lista_palavras = [\"Olá\", \"Mundo\", \"Python\",]\n",
        "\n",
        "# Unindo os elemntos da Lista --> join\n",
        "\n",
        "print(\"-\" .join(lista_palavras))\n",
        "print(\".\" .join(lista_palavras))\n",
        "print(\"$\" .join(lista_palavras))\n"
      ],
      "metadata": {
        "colab": {
          "base_uri": "https://localhost:8080/"
        },
        "id": "bNPkJsMyaWLH",
        "outputId": "f9fe83ff-c6d5-48db-d1c2-b6b055c7ecfe"
      },
      "execution_count": null,
      "outputs": [
        {
          "output_type": "stream",
          "name": "stdout",
          "text": [
            "olá, mundo!\n",
            "OLÁ, MUNDO!\n",
            "Olá, mundo!\n",
            "Olá, Mundo!\n",
            "oLÁ, MUNDO!\n",
            "1\n",
            "5\n",
            "Olá, Python!\n",
            "['Olá', ' mundo!']\n",
            "Olá-Mundo-Python\n",
            "Olá.Mundo.Python\n",
            "Olá$Mundo$Python\n"
          ]
        }
      ]
    },
    {
      "cell_type": "markdown",
      "source": [
        "# Booleanos\n",
        "\n",
        "Representam um de dois valores: True ou False"
      ],
      "metadata": {
        "id": "npW3VNmDdfoL"
      }
    },
    {
      "cell_type": "code",
      "source": [
        "# Verificar se um número é maior que outro\n",
        "\n",
        "x = 5\n",
        "y = 3\n",
        "\n",
        "resultado = x > y\n",
        "\n",
        "print(resultado)"
      ],
      "metadata": {
        "colab": {
          "base_uri": "https://localhost:8080/"
        },
        "id": "ltV_vpVgdlK4",
        "outputId": "519a2fb3-3968-46fb-9a4f-ee292f281f11"
      },
      "execution_count": null,
      "outputs": [
        {
          "output_type": "stream",
          "name": "stdout",
          "text": [
            "True\n"
          ]
        }
      ]
    },
    {
      "cell_type": "code",
      "source": [
        "# Testar se uma lista está Vazia\n",
        "\n",
        "# Criar uma lista vazia\n",
        "\n",
        "lista = []\n",
        "\n",
        "# Verificar se está vazia\n",
        "\n",
        "resultado = bool(lista)\n",
        "\n",
        "print(resultado)"
      ],
      "metadata": {
        "colab": {
          "base_uri": "https://localhost:8080/"
        },
        "id": "ge-14rY8d19M",
        "outputId": "e7ab9303-56ea-4722-a1e9-15a59ec99c8d"
      },
      "execution_count": null,
      "outputs": [
        {
          "output_type": "stream",
          "name": "stdout",
          "text": [
            "False\n"
          ]
        }
      ]
    },
    {
      "cell_type": "code",
      "source": [
        "# Verificar se uma String Contem um Caractere\n",
        "\n",
        "texto = \"Python e Intuitivo!\"\n",
        "\n",
        "resultado = \"y\" not in texto\n",
        "resultado2 = \"y\" in texto\n",
        "\n",
        "print(resultado)\n",
        "print(resultado2)"
      ],
      "metadata": {
        "colab": {
          "base_uri": "https://localhost:8080/"
        },
        "id": "fI6az5czexJA",
        "outputId": "49a3fcfb-d2a9-43df-e239-2a5bfecfcf14"
      },
      "execution_count": null,
      "outputs": [
        {
          "output_type": "stream",
          "name": "stdout",
          "text": [
            "False\n",
            "True\n"
          ]
        }
      ]
    },
    {
      "cell_type": "code",
      "source": [
        "# Verificar se uma variável é de um tipo específico\n",
        "\n",
        "variavel = \"Texto\"\n",
        "\n",
        "resultado = isinstance(variavel, int)\n",
        "\n",
        "print(resultado)"
      ],
      "metadata": {
        "colab": {
          "base_uri": "https://localhost:8080/"
        },
        "id": "lF2Q_AxhfI3R",
        "outputId": "593e8e20-b021-41e8-9bc1-c105ca5b5287"
      },
      "execution_count": null,
      "outputs": [
        {
          "output_type": "stream",
          "name": "stdout",
          "text": [
            "True\n"
          ]
        }
      ]
    },
    {
      "cell_type": "code",
      "source": [
        "# Identificar o Tipo de uma Variável\n",
        "\n",
        "x = 2\n",
        "\n",
        "y = \"Ana\"\n",
        "\n",
        "print(type(x))\n",
        "print(type(y))"
      ],
      "metadata": {
        "colab": {
          "base_uri": "https://localhost:8080/"
        },
        "id": "zcZ5Tq42fWEU",
        "outputId": "1cdfb627-374f-440a-bb40-937c5702bced"
      },
      "execution_count": null,
      "outputs": [
        {
          "output_type": "stream",
          "name": "stdout",
          "text": [
            "<class 'int'>\n",
            "<class 'str'>\n"
          ]
        }
      ]
    },
    {
      "cell_type": "code",
      "source": [
        "# Verificar se um determinado item está presente em uma Lista\n",
        "\n",
        "# Criar a Lista\n",
        "departamentos = [\"Jurídico\", \"Financeiro\", \"Vendas\",]\n",
        "\n",
        "\"Jurídico\" in departamentos\n",
        "\n",
        "\"Jurídico\" not in departamentos\n"
      ],
      "metadata": {
        "colab": {
          "base_uri": "https://localhost:8080/"
        },
        "id": "qjjfVorahmMC",
        "outputId": "d357db97-67ed-4c70-a117-1628df3e551d"
      },
      "execution_count": null,
      "outputs": [
        {
          "output_type": "execute_result",
          "data": {
            "text/plain": [
              "False"
            ]
          },
          "metadata": {},
          "execution_count": 123
        }
      ]
    },
    {
      "cell_type": "code",
      "source": [
        "# Atribuir Valores Booleanos\n",
        "\n",
        "game_ativo = True\n",
        "\n",
        "game_editar = False"
      ],
      "metadata": {
        "id": "Rz7Ku1pZh9Ln"
      },
      "execution_count": null,
      "outputs": []
    },
    {
      "cell_type": "markdown",
      "source": [
        "# Dictionaries -- > Dicionários\n",
        "\n",
        "Armazenam Conexoes entre as Informacoes\n",
        "\n",
        "Cada item em um dicionário é um par\n",
        "chave-valor\n",
        "\n",
        "Conjunto de Dados -- > {}"
      ],
      "metadata": {
        "id": "ORYOStTpiJeV"
      }
    },
    {
      "cell_type": "code",
      "source": [
        "# Criando um Dicionário\n",
        "\n",
        "sapo = {\"cor\" : \"verde\", \"pontos\" : 5}\n",
        "\n",
        "# Chamando o Dicionário\n",
        "\n",
        "sapo"
      ],
      "metadata": {
        "colab": {
          "base_uri": "https://localhost:8080/"
        },
        "id": "4Ici3CK1iTdB",
        "outputId": "68f37c50-404b-48f5-b8f5-9f36a8541d91"
      },
      "execution_count": null,
      "outputs": [
        {
          "output_type": "execute_result",
          "data": {
            "text/plain": [
              "{'cor': 'verde', 'pontos': 5}"
            ]
          },
          "metadata": {},
          "execution_count": 124
        }
      ]
    },
    {
      "cell_type": "code",
      "source": [
        "# Utilizando Expressões Personalizadas\n",
        "\n",
        "print(\"A cor do sapo é \"+ sapo[\"cor\"])\n",
        "\n"
      ],
      "metadata": {
        "colab": {
          "base_uri": "https://localhost:8080/"
        },
        "id": "t14OQx6Li3wI",
        "outputId": "e8445ef9-a022-417a-ba27-858618e49cbd"
      },
      "execution_count": null,
      "outputs": [
        {
          "output_type": "stream",
          "name": "stdout",
          "text": [
            "A cor do sapo é verde\n"
          ]
        }
      ]
    },
    {
      "cell_type": "code",
      "source": [
        "# Adicionando um novo par chave-valor\n",
        "\n",
        "# A posição do sapo no eixo x é 0\n",
        "\n",
        "sapo['x_posicao' ] = 0\n",
        "\n",
        "sapo"
      ],
      "metadata": {
        "colab": {
          "base_uri": "https://localhost:8080/"
        },
        "id": "CXwCMlEYjIaI",
        "outputId": "b2bbd5b2-8179-41d8-9143-a354d8730e96"
      },
      "execution_count": null,
      "outputs": [
        {
          "output_type": "execute_result",
          "data": {
            "text/plain": [
              "{'cor': 'verde', 'pontos': 5, 'x_posicao': 0}"
            ]
          },
          "metadata": {},
          "execution_count": 128
        }
      ]
    },
    {
      "cell_type": "code",
      "source": [
        "# Percorrendo os pares chave-valor do dicionário -- Item\n",
        "\n",
        "# Criar um Dicionário\n",
        "\n",
        "numeros_favoritos = {\"Fernando\" : 29, \"Ane\" : 7}\n",
        "\n",
        "for nome, numero in numeros_favoritos.items():\n",
        "  print(nome + \"prefere o número \" + str(numero))\n"
      ],
      "metadata": {
        "colab": {
          "base_uri": "https://localhost:8080/"
        },
        "id": "uThI3Nvaj0ba",
        "outputId": "4a05bbe7-f24c-4943-bf7d-a6fa2cb26b60"
      },
      "execution_count": null,
      "outputs": [
        {
          "output_type": "stream",
          "name": "stdout",
          "text": [
            "Fernandoprefere o número 29\n",
            "Aneprefere o número 7\n"
          ]
        }
      ]
    },
    {
      "cell_type": "code",
      "source": [
        "# Percorrer as Chaves -- > Keys\n",
        "\n",
        "for nome in numeros_favoritos.keys():\n",
        "  print(nome + \" prefere um numero.\")"
      ],
      "metadata": {
        "colab": {
          "base_uri": "https://localhost:8080/"
        },
        "id": "BIzkYP1dlODv",
        "outputId": "1108c789-a4c9-4263-d1f4-7a8642d3523c"
      },
      "execution_count": null,
      "outputs": [
        {
          "output_type": "stream",
          "name": "stdout",
          "text": [
            "Fernando prefere um numero.\n",
            "Ane prefere um numero.\n"
          ]
        }
      ]
    },
    {
      "cell_type": "code",
      "source": [
        "# Percorrendo os Valores -- Values\n",
        "\n",
        "for numero in numeros_favoritos.values():\n",
        "  print(str(numero) + \" é um número favorito.\")"
      ],
      "metadata": {
        "colab": {
          "base_uri": "https://localhost:8080/"
        },
        "id": "eeyTjVznlQ2Z",
        "outputId": "6e58c5a0-1170-4e50-ea60-3e0245476740"
      },
      "execution_count": null,
      "outputs": [
        {
          "output_type": "stream",
          "name": "stdout",
          "text": [
            "29 é um número favorito.\n",
            "7 é um número favorito.\n"
          ]
        }
      ]
    },
    {
      "cell_type": "code",
      "source": [
        "# Dicionarios alinhados\n",
        "\n",
        "# Criar um dicionário que contenha 3 dicionários.\n",
        "\n",
        "minha_familia = {\n",
        "    \"Pessoa1\" : {\n",
        "        \"nome\" : \"Fernando\",\n",
        "        \"idade\" : 34\n",
        "    },\n",
        "\n",
        "    \"Pessoa2\" : {\n",
        "        \"nome\" : \"Ane\",\n",
        "        \"idade\" : 24\n",
        "    },\n",
        "    \"Pessoa2\" : {\n",
        "        \"nome\" : \"Paulo\",\n",
        "        \"idade\" : 40\n",
        "    }\n",
        "\n",
        "}\n",
        "\n",
        "print(minha_familia)"
      ],
      "metadata": {
        "colab": {
          "base_uri": "https://localhost:8080/"
        },
        "id": "_M4ujJ6Mljm1",
        "outputId": "efae9c83-00d1-4dd6-d385-42e344930956"
      },
      "execution_count": null,
      "outputs": [
        {
          "output_type": "stream",
          "name": "stdout",
          "text": [
            "{'Pessoa1': {'nome': 'Fernando', 'idade': 34}, 'Pessoa2': {'nome': 'Paulo', 'idade': 40}}\n"
          ]
        }
      ]
    },
    {
      "cell_type": "markdown",
      "source": [
        "# Constantes"
      ],
      "metadata": {
        "id": "E42ui4c3mmvd"
      }
    },
    {
      "cell_type": "code",
      "source": [
        "# Declarar Constante em Maiúsculo\n",
        "\n",
        "PI = 3.14159\n",
        "\n",
        "# Calcular a Área do Círculo\n",
        "\n",
        "raio = 5\n",
        "\n",
        "PI\n",
        "\n",
        "area = PI * (raio ** 2)\n",
        "\n",
        "print(\"A área do círculo é:\", area)"
      ],
      "metadata": {
        "colab": {
          "base_uri": "https://localhost:8080/"
        },
        "id": "kPF1vHmX_8O4",
        "outputId": "2fed94ff-63fd-425b-ea00-1ac4260e715b"
      },
      "execution_count": null,
      "outputs": [
        {
          "output_type": "stream",
          "name": "stdout",
          "text": [
            "A área do círculo é: 78.53975\n"
          ]
        }
      ]
    },
    {
      "cell_type": "markdown",
      "source": [
        "# Funções\n",
        "\n",
        "def + nome dado a tunçao + (argumento1, argumento 2): Calculo Desejado\n",
        "\n",
        "Exemplo da Sintaxe:\n",
        "\n",
        "def nome_funcao(argumento1, argumento2): argumento1 * argumento2"
      ],
      "metadata": {
        "id": "rsxScV2Zmq3o"
      }
    },
    {
      "cell_type": "code",
      "source": [
        "# Função Simples\n",
        "\n",
        "def saudacao():\n",
        "  print(\"Olá, seja bem-vindo!\")\n",
        "\n",
        "saudacao()"
      ],
      "metadata": {
        "colab": {
          "base_uri": "https://localhost:8080/"
        },
        "id": "fn2YvV6HBOCq",
        "outputId": "8bf1d2d1-06db-4125-e923-dcb6792ce6d3"
      },
      "execution_count": null,
      "outputs": [
        {
          "output_type": "stream",
          "name": "stdout",
          "text": [
            "Olá, seja bem-vindo!\n"
          ]
        }
      ]
    },
    {
      "cell_type": "code",
      "source": [
        "# Funções com Parâmetros\n",
        "\n",
        "nome = input(\"Digite um nome\")\n",
        "\n",
        "def saudacao_com_nome(nome):\n",
        "  print(f\"Olá {nome}! Seja bem-vindo!\")\n",
        "\n",
        "# Chamando a função com diferentes valores de nomes\n",
        "\n",
        "saudacao_com_nome(\"Ana\")\n",
        "\n",
        "saudacao_com_nome(\"João\")\n",
        "\n",
        "saudacao_com_nome(nome)\n"
      ],
      "metadata": {
        "colab": {
          "base_uri": "https://localhost:8080/"
        },
        "id": "AHSfYT1JBU2X",
        "outputId": "2ae44371-c31b-4f74-8d7d-fd149e4fdc85"
      },
      "execution_count": null,
      "outputs": [
        {
          "output_type": "stream",
          "name": "stdout",
          "text": [
            "Digite um nomeGabriel\n",
            "Olá Ana! Seja bem-vindo!\n",
            "Olá João! Seja bem-vindo!\n",
            "Olá Gabriel! Seja bem-vindo!\n"
          ]
        }
      ]
    },
    {
      "cell_type": "code",
      "source": [
        "n1 = int(input(\"Digite o primeiro número\"))\n",
        "n2 = int(input(\"Digite o segundo número\"))\n",
        "\n",
        "def multiplicar(num1, num2):\n",
        "  resultado = num1 * num2\n",
        "  print(f\"Resultado da Multiplicação: {resultado}\")\n",
        "\n",
        "# Chamando a Função\n",
        "\n",
        "multiplicar(3, 4)\n",
        "\n",
        "multiplicar(n1, n2)"
      ],
      "metadata": {
        "colab": {
          "base_uri": "https://localhost:8080/"
        },
        "id": "EZ2ztJYyB7Dz",
        "outputId": "329ff4df-f725-41bd-a15f-e8fef860bbb9"
      },
      "execution_count": null,
      "outputs": [
        {
          "output_type": "stream",
          "name": "stdout",
          "text": [
            "Digite o primeiro número2\n",
            "Digite o segundo número3\n",
            "Resultado da Multiplicação: 12\n",
            "Resultado da Multiplicação: 6\n"
          ]
        }
      ]
    },
    {
      "cell_type": "markdown",
      "source": [
        "## Funções com retorno\n",
        "\n",
        "Devolvem valores usando a palavra-chave return\n",
        "\n",
        "Permite que o resultado de uma função seja armazenado em uma variável para uso posterior\n",
        "\n"
      ],
      "metadata": {
        "id": "BT7r71EcDL1j"
      }
    },
    {
      "cell_type": "code",
      "source": [
        "def quadrado(numero):\n",
        "  return numero ** 2\n",
        "\n",
        "  resultado = quadrado(5)\n",
        "\n",
        "  print(f\"O quadrado de 5 é: {resultado}\")\n"
      ],
      "metadata": {
        "id": "5P9i-YSlDUbN"
      },
      "execution_count": null,
      "outputs": []
    },
    {
      "cell_type": "code",
      "source": [
        "# Função sem Return não pode armazenar variável\n",
        "\n",
        "def imprime_soma(a, b):\n",
        "  print(a + b)\n",
        "\n",
        "resultado = imprime_soma(3, 5)\n",
        "\n",
        "print(resultado) # Sáida: none"
      ],
      "metadata": {
        "colab": {
          "base_uri": "https://localhost:8080/"
        },
        "id": "dRAfsbTQD9Et",
        "outputId": "f0e73d8f-72c4-4c1a-aa04-4520f9e0e535"
      },
      "execution_count": null,
      "outputs": [
        {
          "output_type": "stream",
          "name": "stdout",
          "text": [
            "8\n",
            "None\n"
          ]
        }
      ]
    },
    {
      "cell_type": "code",
      "source": [
        "# Função com Return, pode ser armazenada em uma variável\n",
        "\n",
        "def soma(a, b):\n",
        "  return a + b\n",
        "\n",
        "resultado = soma(3, 5)\n",
        "\n",
        "print(resultado)"
      ],
      "metadata": {
        "colab": {
          "base_uri": "https://localhost:8080/"
        },
        "id": "bqssvWv6Edji",
        "outputId": "fa5a7a0e-2eb3-4230-ad72-2a65130196b2"
      },
      "execution_count": null,
      "outputs": [
        {
          "output_type": "stream",
          "name": "stdout",
          "text": [
            "8\n"
          ]
        }
      ]
    },
    {
      "cell_type": "markdown",
      "source": [
        "## Função com Múltiplos Retornos"
      ],
      "metadata": {
        "id": "I3bXfDB1ErSD"
      }
    },
    {
      "cell_type": "code",
      "source": [
        "def dividir( dividendo, divisor):\n",
        "  quociente = dividendo // divisor\n",
        "  resto = dividendo % divisor\n",
        "  return quociente, resto\n",
        "\n",
        "#Armazenando os Valores de Retorno em Duas Variáveis\n",
        "\n",
        "q, r = dividir(10, 3)\n",
        "\n",
        "print(\"Quociente:\" , q)\n",
        "print(f\"Resto: {r}\")"
      ],
      "metadata": {
        "colab": {
          "base_uri": "https://localhost:8080/"
        },
        "id": "QOZd896sEzP5",
        "outputId": "e3df3cee-8f0d-4b30-b95e-4e26631eb25a"
      },
      "execution_count": null,
      "outputs": [
        {
          "output_type": "stream",
          "name": "stdout",
          "text": [
            "Quociente: 3\n",
            "Resto: 1\n"
          ]
        }
      ]
    },
    {
      "cell_type": "markdown",
      "source": [
        "# Exercício\n",
        "Criar uma funçao chamada calcular_media que receba três notas, calcule a média aritmética e retorne a média. Exiba o resultado."
      ],
      "metadata": {
        "id": "hNbi9BcYHntS"
      }
    },
    {
      "cell_type": "code",
      "source": [
        "def calcular_media(n1, n2, n3):\n",
        "  media = (n1 + n2+ n3) / 3\n",
        "  return media\n",
        "\n",
        "m = calcular_media( 50, 5, 5)\n",
        "\n",
        "print(f\"A sua média é {m}\")\n",
        "\n"
      ],
      "metadata": {
        "colab": {
          "base_uri": "https://localhost:8080/"
        },
        "id": "3_IqE48WGNyE",
        "outputId": "63bd18bd-7dc9-49b5-e4c3-ce8b6b722b97"
      },
      "execution_count": null,
      "outputs": [
        {
          "output_type": "stream",
          "name": "stdout",
          "text": [
            "A sua média é 20.0\n"
          ]
        }
      ]
    },
    {
      "cell_type": "code",
      "source": [
        "saudacao()\n",
        "\n",
        "saudacao(\"Fernanda\")"
      ],
      "metadata": {
        "id": "WdqNrbmhOVEe"
      },
      "execution_count": null,
      "outputs": []
    },
    {
      "cell_type": "code",
      "source": [
        "def calcular_preco_final(preco, desconto=0.10):\n",
        "  preco_final = preco * (1 - desconto)\n",
        "  return preco_final"
      ],
      "metadata": {
        "id": "bGaqIwRdOw4t"
      },
      "execution_count": null,
      "outputs": []
    },
    {
      "cell_type": "code",
      "source": [
        "preco = 100\n",
        "\n",
        "print(calcular_preco_final(preco))\n",
        "\n",
        "print(calcular_preco_final(preco, 0.20))"
      ],
      "metadata": {
        "colab": {
          "base_uri": "https://localhost:8080/"
        },
        "id": "SHDFEEY1O0J8",
        "outputId": "ae611f0c-6301-4dc3-ff4d-44b9a48e9db4"
      },
      "execution_count": null,
      "outputs": [
        {
          "output_type": "stream",
          "name": "stdout",
          "text": [
            "90.0\n",
            "80.0\n"
          ]
        }
      ]
    },
    {
      "cell_type": "markdown",
      "source": [
        "## Exercicío\n",
        "\n",
        "Crie uma funcao que calcula o valor\n",
        "final de uma compra, considerando o\n",
        "preço, quantidade e imposto. Crie o\n",
        "valor padrão para a quantidade (1) e\n",
        "para o imposto."
      ],
      "metadata": {
        "id": "PTDG_Qa6PFty"
      }
    },
    {
      "cell_type": "code",
      "source": [
        "def valor_finall(preco, quantidade=1, imposto= 0.10):\n",
        "    total = preco * quantidade\n",
        "    total_com_imosto = total + (total * imposto)\n",
        "    return total_com_imosto\n",
        "\n",
        "valor_total = valor_finall(100, 2, 0.15)\n",
        "\n",
        "print(valor_total)\n"
      ],
      "metadata": {
        "colab": {
          "base_uri": "https://localhost:8080/"
        },
        "id": "0rOAoHprPjQZ",
        "outputId": "6d736d73-410f-472a-e35a-5867c6ae6318"
      },
      "execution_count": null,
      "outputs": [
        {
          "output_type": "stream",
          "name": "stdout",
          "text": [
            "230.0\n"
          ]
        }
      ]
    },
    {
      "cell_type": "markdown",
      "source": [
        "Sistema de Cadastros"
      ],
      "metadata": {
        "id": "P7VWjGzKm6Nz"
      }
    },
    {
      "cell_type": "markdown",
      "source": [
        "# Funcionalidades\n",
        "\n",
        "- Adicionar Produtos\n",
        "- Remover Produtos\n",
        "- Listar Produtos\n",
        "- Verificar a disponibilidade de Produtos\n",
        "\n",
        "## Ferramentas\n",
        "\n",
        "- Definição de Função\n",
        "- Condicionais (if, else,elf)\n",
        "- Inputs\n",
        "- Tipos de Dados\n",
        "- Coleções\n",
        "- Loop for\n",
        "- Menu"
      ],
      "metadata": {
        "id": "RI1IKCP4W_1g"
      }
    },
    {
      "cell_type": "markdown",
      "source": [],
      "metadata": {
        "id": "154QWcNrdYxm"
      }
    },
    {
      "cell_type": "markdown",
      "source": [
        "## Pseudocódigo\n",
        "\n",
        "**Etapa 1** - Criar uma Biblioteca (lista) vazia para receber os livros\n",
        "cadastrados.\n",
        "\n",
        "**Etapa 2** - Criar uma Função que Adicione Livros à Biblioteca por\n",
        "meio de Inputs de Usuário.\n",
        "\n",
        "**Etapa 3** - Criar uma Função que Verifique a Disponibilidade dos\n",
        "Livros na Biblioteca por meio de Inputs de Usuário.\n",
        "\n",
        "**Etapa 4** - Criar uma Funçao que Liste todos os livros da\n",
        "Biblioteca.\n",
        "\n",
        "**Etapa 5** - Criar uma Função que Remova os Livros da Biblioteca\n",
        "por meio de Inputs de Usuário.\n",
        "\n",
        "**Etapa 6** - Criar o Menu no qual, de acordo com o unput de\n",
        "usuário, ele \"chamará\" uma das funções geradas.\n"
      ],
      "metadata": {
        "id": "UIjv9O20di6P"
      }
    },
    {
      "cell_type": "code",
      "source": [
        "# Etapa 1\n",
        "\n",
        "biblioteca = []\n",
        "\n",
        "# Etapa 2\n",
        "\n",
        "def adicionar_livro():\n",
        "  titulo = input(\"Digite o Título do Livro: \")\n",
        "  autor = input(\"Digite o nome do Autor do Livro: \")\n",
        "  disponibilidade = input(\"O Livro está disponível? (Sim/Não)\").lower()\n",
        "  livro = {\"Título\": titulo, \"Autor\": autor, \"Disponibilidade\": disponibilidade}\n",
        "  biblioteca.append(livro)\n",
        "  print(\"Livro Adicionado com Sucesso!\")\n",
        "\n",
        "#adicionar_livro()\n",
        "\n",
        "# Etapa 3\n",
        "\n",
        "def verificar_disponibilidade():\n",
        "  titulo = input(\"Digite o Título do Livro\")\n",
        "  for livro in biblioteca:\n",
        "    if livro [\"Título\"] == titulo:\n",
        "      if livro[\"Disponibilidade\"] == \"sim\":\n",
        "        print(f\"o livro {titulo} está disponível.\")\n",
        "      else:\n",
        "        print(f\"O livro {titulo} não está disponível no momento\")\n",
        "      return\n",
        "  print(f\"O livro {titulo} não está cadastrado na biblioteca\")\n",
        "\n",
        "#verificar_disponibilidade():\n",
        "\n",
        "# Etapa 4\n",
        "\n",
        "def listar_livros():\n",
        "  print(\"Lista de Livros na Biblioteca:\")\n",
        "  for livro in biblioteca:\n",
        "    print(f\"Título: {livro['Título']}, Autor: {livro['Autor']}, Disponibilidade: {livro['Disponibilidade']}\")\n",
        "\n",
        "#listar_livros()\n",
        "\n",
        "# Etapa 5\n",
        "\n",
        "def remover_livro():\n",
        "  titulo = input(\"Digite o Título do Livro a ser Removido: \")\n",
        "  for livro in biblioteca:\n",
        "    if livro[\"Título\"] == titulo:\n",
        "      biblioteca.remove(livro)\n",
        "      print(f\"Livro {titulo} foi removido da biblioteca com sucesso\")\n",
        "      return\n",
        "  print(f\"O livro {titulo} não está cadastrado na biblioteca.\")\n",
        "\n",
        "#remover_livros()\n",
        "\n",
        "# Etapa 6\n",
        "\n",
        "def menu():\n",
        "  print(\"\\nMenu: \")\n",
        "  print(\"1. Adicionar Livro\")\n",
        "  print(\"2. Verificar Disponibilidade\")\n",
        "  print(\"3. Listar Livros\")\n",
        "  print(\"4. Remover Livro\")\n",
        "  print(\"0. Sair\")\n",
        "\n",
        "# Criar uma Variável de Opção que o Usuário poderá Digitar\n",
        "  opcao = input(\"Digite o número da opção desejada.\")\n",
        "\n",
        "  if opcao == \"1\":\n",
        "    adicionar_livro()\n",
        "  elif opcao == \"2\":\n",
        "    verificar_disponibilidade()\n",
        "  elif opcao == \"3\":\n",
        "    listar_livros()\n",
        "  elif opcao == \"4\":\n",
        "    remover_livro()\n",
        "  elif opcao == \"0\":\n",
        "    print(\"Saindo do programa.........\")\n",
        "    return\n",
        "  else:\n",
        "    print(\"Opção inválida. Por favor, tente novamente escolhendo uma opção válida\")\n",
        "\n",
        "  menu()\n",
        "\n",
        "menu()\n",
        "\n",
        "\n",
        "\n",
        "\n"
      ],
      "metadata": {
        "colab": {
          "base_uri": "https://localhost:8080/",
          "height": 686
        },
        "id": "89OQBJPDm0KU",
        "outputId": "932db9ba-626d-453f-b7dd-73d1b3d1e60c"
      },
      "execution_count": 21,
      "outputs": [
        {
          "output_type": "stream",
          "name": "stdout",
          "text": [
            "\n",
            "Menu: \n",
            "1. Adicionar Livro\n",
            "2. Verificar Disponibilidade\n",
            "3. Listar Livros\n",
            "4. Remover Livro\n",
            "0. Sair\n",
            "Digite o número da opção desejada.1\n",
            "Digite o Título do Livro: a\n",
            "Digite o nome do Autor do Livro: a\n",
            "O Livro está disponível? (Sim/Não)sim\n",
            "Livro Adicionado com Sucesso!\n",
            "\n",
            "Menu: \n",
            "1. Adicionar Livro\n",
            "2. Verificar Disponibilidade\n",
            "3. Listar Livros\n",
            "4. Remover Livro\n",
            "0. Sair\n"
          ]
        },
        {
          "output_type": "error",
          "ename": "KeyboardInterrupt",
          "evalue": "Interrupted by user",
          "traceback": [
            "\u001b[0;31m---------------------------------------------------------------------------\u001b[0m",
            "\u001b[0;31mKeyboardInterrupt\u001b[0m                         Traceback (most recent call last)",
            "\u001b[0;32m<ipython-input-21-64fe4c20d26e>\u001b[0m in \u001b[0;36m<cell line: 83>\u001b[0;34m()\u001b[0m\n\u001b[1;32m     81\u001b[0m   \u001b[0mmenu\u001b[0m\u001b[0;34m(\u001b[0m\u001b[0;34m)\u001b[0m\u001b[0;34m\u001b[0m\u001b[0;34m\u001b[0m\u001b[0m\n\u001b[1;32m     82\u001b[0m \u001b[0;34m\u001b[0m\u001b[0m\n\u001b[0;32m---> 83\u001b[0;31m \u001b[0mmenu\u001b[0m\u001b[0;34m(\u001b[0m\u001b[0;34m)\u001b[0m\u001b[0;34m\u001b[0m\u001b[0;34m\u001b[0m\u001b[0m\n\u001b[0m\u001b[1;32m     84\u001b[0m \u001b[0;34m\u001b[0m\u001b[0m\n\u001b[1;32m     85\u001b[0m \u001b[0;34m\u001b[0m\u001b[0m\n",
            "\u001b[0;32m<ipython-input-21-64fe4c20d26e>\u001b[0m in \u001b[0;36mmenu\u001b[0;34m()\u001b[0m\n\u001b[1;32m     79\u001b[0m     \u001b[0mprint\u001b[0m\u001b[0;34m(\u001b[0m\u001b[0;34m\"Opção inválida. Por favor, tente novamente escolhendo uma opção válida\"\u001b[0m\u001b[0;34m)\u001b[0m\u001b[0;34m\u001b[0m\u001b[0;34m\u001b[0m\u001b[0m\n\u001b[1;32m     80\u001b[0m \u001b[0;34m\u001b[0m\u001b[0m\n\u001b[0;32m---> 81\u001b[0;31m   \u001b[0mmenu\u001b[0m\u001b[0;34m(\u001b[0m\u001b[0;34m)\u001b[0m\u001b[0;34m\u001b[0m\u001b[0;34m\u001b[0m\u001b[0m\n\u001b[0m\u001b[1;32m     82\u001b[0m \u001b[0;34m\u001b[0m\u001b[0m\n\u001b[1;32m     83\u001b[0m \u001b[0mmenu\u001b[0m\u001b[0;34m(\u001b[0m\u001b[0;34m)\u001b[0m\u001b[0;34m\u001b[0m\u001b[0;34m\u001b[0m\u001b[0m\n",
            "\u001b[0;32m<ipython-input-21-64fe4c20d26e>\u001b[0m in \u001b[0;36mmenu\u001b[0;34m()\u001b[0m\n\u001b[1;32m     63\u001b[0m \u001b[0;34m\u001b[0m\u001b[0m\n\u001b[1;32m     64\u001b[0m \u001b[0;31m# Criar uma Variável de Opção que o Usuário poderá Digitar\u001b[0m\u001b[0;34m\u001b[0m\u001b[0;34m\u001b[0m\u001b[0m\n\u001b[0;32m---> 65\u001b[0;31m   \u001b[0mopcao\u001b[0m \u001b[0;34m=\u001b[0m \u001b[0minput\u001b[0m\u001b[0;34m(\u001b[0m\u001b[0;34m\"Digite o número da opção desejada.\"\u001b[0m\u001b[0;34m)\u001b[0m\u001b[0;34m\u001b[0m\u001b[0;34m\u001b[0m\u001b[0m\n\u001b[0m\u001b[1;32m     66\u001b[0m \u001b[0;34m\u001b[0m\u001b[0m\n\u001b[1;32m     67\u001b[0m   \u001b[0;32mif\u001b[0m \u001b[0mopcao\u001b[0m \u001b[0;34m==\u001b[0m \u001b[0;34m\"1\"\u001b[0m\u001b[0;34m:\u001b[0m\u001b[0;34m\u001b[0m\u001b[0;34m\u001b[0m\u001b[0m\n",
            "\u001b[0;32m/usr/local/lib/python3.10/dist-packages/ipykernel/kernelbase.py\u001b[0m in \u001b[0;36mraw_input\u001b[0;34m(self, prompt)\u001b[0m\n\u001b[1;32m    849\u001b[0m                 \u001b[0;34m\"raw_input was called, but this frontend does not support input requests.\"\u001b[0m\u001b[0;34m\u001b[0m\u001b[0;34m\u001b[0m\u001b[0m\n\u001b[1;32m    850\u001b[0m             )\n\u001b[0;32m--> 851\u001b[0;31m         return self._input_request(str(prompt),\n\u001b[0m\u001b[1;32m    852\u001b[0m             \u001b[0mself\u001b[0m\u001b[0;34m.\u001b[0m\u001b[0m_parent_ident\u001b[0m\u001b[0;34m,\u001b[0m\u001b[0;34m\u001b[0m\u001b[0;34m\u001b[0m\u001b[0m\n\u001b[1;32m    853\u001b[0m             \u001b[0mself\u001b[0m\u001b[0;34m.\u001b[0m\u001b[0m_parent_header\u001b[0m\u001b[0;34m,\u001b[0m\u001b[0;34m\u001b[0m\u001b[0;34m\u001b[0m\u001b[0m\n",
            "\u001b[0;32m/usr/local/lib/python3.10/dist-packages/ipykernel/kernelbase.py\u001b[0m in \u001b[0;36m_input_request\u001b[0;34m(self, prompt, ident, parent, password)\u001b[0m\n\u001b[1;32m    893\u001b[0m             \u001b[0;32mexcept\u001b[0m \u001b[0mKeyboardInterrupt\u001b[0m\u001b[0;34m:\u001b[0m\u001b[0;34m\u001b[0m\u001b[0;34m\u001b[0m\u001b[0m\n\u001b[1;32m    894\u001b[0m                 \u001b[0;31m# re-raise KeyboardInterrupt, to truncate traceback\u001b[0m\u001b[0;34m\u001b[0m\u001b[0;34m\u001b[0m\u001b[0m\n\u001b[0;32m--> 895\u001b[0;31m                 \u001b[0;32mraise\u001b[0m \u001b[0mKeyboardInterrupt\u001b[0m\u001b[0;34m(\u001b[0m\u001b[0;34m\"Interrupted by user\"\u001b[0m\u001b[0;34m)\u001b[0m \u001b[0;32mfrom\u001b[0m \u001b[0;32mNone\u001b[0m\u001b[0;34m\u001b[0m\u001b[0;34m\u001b[0m\u001b[0m\n\u001b[0m\u001b[1;32m    896\u001b[0m             \u001b[0;32mexcept\u001b[0m \u001b[0mException\u001b[0m \u001b[0;32mas\u001b[0m \u001b[0me\u001b[0m\u001b[0;34m:\u001b[0m\u001b[0;34m\u001b[0m\u001b[0;34m\u001b[0m\u001b[0m\n\u001b[1;32m    897\u001b[0m                 \u001b[0mself\u001b[0m\u001b[0;34m.\u001b[0m\u001b[0mlog\u001b[0m\u001b[0;34m.\u001b[0m\u001b[0mwarning\u001b[0m\u001b[0;34m(\u001b[0m\u001b[0;34m\"Invalid Message:\"\u001b[0m\u001b[0;34m,\u001b[0m \u001b[0mexc_info\u001b[0m\u001b[0;34m=\u001b[0m\u001b[0;32mTrue\u001b[0m\u001b[0;34m)\u001b[0m\u001b[0;34m\u001b[0m\u001b[0;34m\u001b[0m\u001b[0m\n",
            "\u001b[0;31mKeyboardInterrupt\u001b[0m: Interrupted by user"
          ]
        }
      ]
    },
    {
      "cell_type": "code",
      "source": [
        "import pandas as pd\n",
        "\n",
        "print(pd.__version__)"
      ],
      "metadata": {
        "id": "qzZ6GKGQ3lm6"
      },
      "execution_count": null,
      "outputs": []
    },
    {
      "cell_type": "code",
      "source": [],
      "metadata": {
        "id": "iirG7Am65BE2"
      },
      "execution_count": null,
      "outputs": []
    }
  ]
}