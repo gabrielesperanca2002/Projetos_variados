{
  "nbformat": 4,
  "nbformat_minor": 0,
  "metadata": {
    "colab": {
      "provenance": [],
      "authorship_tag": "ABX9TyPeqmssVNT7j+zKDuS+zKy5",
      "include_colab_link": true
    },
    "kernelspec": {
      "name": "python3",
      "display_name": "Python 3"
    },
    "language_info": {
      "name": "python"
    }
  },
  "cells": [
    {
      "cell_type": "markdown",
      "metadata": {
        "id": "view-in-github",
        "colab_type": "text"
      },
      "source": [
        "<a href=\"https://colab.research.google.com/github/gabrielesperanca2002/javaScript-Aulas/blob/main/Aula_Python.ipynb\" target=\"_parent\"><img src=\"https://colab.research.google.com/assets/colab-badge.svg\" alt=\"Open In Colab\"/></a>"
      ]
    },
    {
      "cell_type": "code",
      "execution_count": null,
      "metadata": {
        "id": "cIZ_zP5H6dJ9"
      },
      "outputs": [],
      "source": []
    },
    {
      "cell_type": "markdown",
      "source": [
        "# Iniciando\n",
        "Vamos Iniciar o código"
      ],
      "metadata": {
        "id": "hp_uChfg85cR"
      }
    },
    {
      "cell_type": "code",
      "source": [
        "print(\"Olá, Mundo!\")"
      ],
      "metadata": {
        "colab": {
          "base_uri": "https://localhost:8080/"
        },
        "id": "xqezVrnF9Ll0",
        "outputId": "f1f0d5db-a02a-4858-d80b-0b2c5cd45601"
      },
      "execution_count": 1,
      "outputs": [
        {
          "output_type": "stream",
          "name": "stdout",
          "text": [
            "Olá, Mundo!\n"
          ]
        }
      ]
    },
    {
      "cell_type": "code",
      "source": [],
      "metadata": {
        "id": "U9qJBJJK9BZJ"
      },
      "execution_count": null,
      "outputs": []
    },
    {
      "cell_type": "code",
      "source": [
        "# Indentação\n",
        "\n",
        "if 5 > 2:\n",
        "  print(\"Cinco é maior que dois.\")"
      ],
      "metadata": {
        "colab": {
          "base_uri": "https://localhost:8080/"
        },
        "id": "B_9b1heR9WkI",
        "outputId": "25fed2dc-28f2-4b97-ee38-64e575cbc0e3"
      },
      "execution_count": 2,
      "outputs": [
        {
          "output_type": "stream",
          "name": "stdout",
          "text": [
            "Cinco é maior que dois.\n"
          ]
        }
      ]
    },
    {
      "cell_type": "code",
      "source": [
        "# Variáveis\n",
        "\n",
        "x = 5\n",
        "\n",
        "y = \"Estou no Curso\"\n",
        "\n",
        "print(x)\n",
        "\n",
        "print(y)\n",
        "\n",
        "\n",
        "# Casting - Declaração de Variáveis\n",
        "\n",
        "a = str(3) # String, Texto -> \"3\"\n",
        "\n",
        "b = int(3) # Integer, número inteiro --> 3\n",
        "\n",
        "c = float(3) # Float, número flutuante, decimal --# 3.0\n",
        "\n",
        "# Exibindo as variáveis\n",
        "\n",
        "print(a)\n",
        "print(b)\n",
        "print(c)"
      ],
      "metadata": {
        "colab": {
          "base_uri": "https://localhost:8080/"
        },
        "id": "jEh_8R1T-Mzl",
        "outputId": "c73c8bc8-a8a2-44e8-a64b-0e552c5cde31"
      },
      "execution_count": 8,
      "outputs": [
        {
          "output_type": "stream",
          "name": "stdout",
          "text": [
            "5\n",
            "Estou no Curso\n",
            "3\n",
            "3\n",
            "3.0\n"
          ]
        }
      ]
    },
    {
      "cell_type": "code",
      "source": [
        "# Muiitos valores para múltiplas variáveis\n",
        "\n",
        "x, y, z = \"Laranja\", \"Banana\", \"Cereja\"\n",
        "\n",
        "print(x)\n",
        "print(y)\n",
        "print(z)\n",
        "\n",
        "#Shift + alt + Seta para baixo - Duplica a linha"
      ],
      "metadata": {
        "colab": {
          "base_uri": "https://localhost:8080/"
        },
        "id": "vBr7jfgeC85Y",
        "outputId": "70911142-8431-4f4e-c728-b3ce1b86aead"
      },
      "execution_count": 10,
      "outputs": [
        {
          "output_type": "stream",
          "name": "stdout",
          "text": [
            "Laranja\n",
            "Banana\n",
            "Cereja\n"
          ]
        }
      ]
    },
    {
      "cell_type": "code",
      "source": [],
      "metadata": {
        "id": "-zC6NdXMDP74"
      },
      "execution_count": 9,
      "outputs": []
    },
    {
      "cell_type": "code",
      "source": [
        "# Um vlaor para múltiplas variaveis\n",
        "\n",
        "x = y = z =\"Laranja\"\n",
        "\n",
        "print(x)\n",
        "print(y)\n",
        "print(z)"
      ],
      "metadata": {
        "colab": {
          "base_uri": "https://localhost:8080/"
        },
        "id": "P92HHWwCD5bP",
        "outputId": "bd3b7860-4823-44fa-aa7d-f6e544726974"
      },
      "execution_count": 11,
      "outputs": [
        {
          "output_type": "stream",
          "name": "stdout",
          "text": [
            "Laranja\n",
            "Laranja\n",
            "Laranja\n"
          ]
        }
      ]
    }
  ]
}